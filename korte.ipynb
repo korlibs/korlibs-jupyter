{
 "cells": [
  {
   "cell_type": "code",
   "execution_count": 8,
   "id": "836af58d",
   "metadata": {},
   "outputs": [],
   "source": [
    "@file:DependsOn(\"com.soywiz.korlibs.korte:korte-jvm:2.4.6\")\n",
    "@file:DependsOn(\"org.jetbrains.kotlinx:kotlinx-coroutines-core-jvm:1.5.2\")\n",
    "import com.soywiz.korte.*\n",
    "import kotlinx.coroutines.*"
   ]
  },
  {
   "cell_type": "code",
   "execution_count": 10,
   "id": "92c1d736",
   "metadata": {},
   "outputs": [
    {
     "data": {
      "text/html": [
       "\n",
       "    <ul>\n",
       "    <li>hello <strong>world</strong></li>\n",
       "    <li>hello <strong>test</strong></li>\n",
       "    <li>hello <strong>korte</strong></li>\n",
       "    </ul>\n"
      ]
     },
     "execution_count": 10,
     "metadata": {},
     "output_type": "execute_result"
    }
   ],
   "source": [
    "HTML(runBlocking { Template(\"\"\"\n",
    "    <ul>\n",
    "    {% for name in names -%}\n",
    "        <li>hello <strong>{{ name }}</strong></li>\n",
    "    {% endfor -%}\n",
    "    </ul>\n",
    "\"\"\")(mapOf(\"names\" to listOf(\"world\", \"test\", \"korte\"))) })"
   ]
  }
 ],
 "metadata": {
  "kernelspec": {
   "display_name": "Kotlin",
   "language": "kotlin",
   "name": "kotlin"
  },
  "language_info": {
   "codemirror_mode": "text/x-kotlin",
   "file_extension": ".kt",
   "mimetype": "text/x-kotlin",
   "name": "kotlin",
   "nbconvert_exporter": "",
   "pygments_lexer": "kotlin",
   "version": "1.6.20-dev-3702"
  }
 },
 "nbformat": 4,
 "nbformat_minor": 5
}
