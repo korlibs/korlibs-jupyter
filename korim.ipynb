{
 "cells": [
  {
   "cell_type": "code",
   "execution_count": 13,
   "id": "6737c485",
   "metadata": {},
   "outputs": [],
   "source": [
    "@file:DependsOn(\"com.soywiz.korlibs.korio:korio-jvm:2.4.6\")\n",
    "@file:DependsOn(\"com.soywiz.korlibs.korim:korim-jvm:2.4.6\")"
   ]
  },
  {
   "cell_type": "code",
   "execution_count": 19,
   "id": "f05550e6",
   "metadata": {},
   "outputs": [],
   "source": [
    "import com.soywiz.korma.*\n",
    "import com.soywiz.korma.geom.*\n",
    "import com.soywiz.korma.geom.vector.*\n",
    "import com.soywiz.korim.*\n",
    "import com.soywiz.korio.*\n",
    "import com.soywiz.korio.file.*\n",
    "import com.soywiz.korio.file.std.*\n",
    "import com.soywiz.korim.*\n",
    "import com.soywiz.korim.format.*\n",
    "import com.soywiz.korim.bitmap.*\n",
    "import com.soywiz.korim.color.*\n",
    "import com.soywiz.korim.awt.*\n",
    "import kotlinx.coroutines.*"
   ]
  },
  {
   "cell_type": "code",
   "execution_count": 45,
   "id": "802c57fb",
   "metadata": {},
   "outputs": [
    {
     "data": {
      "text/html": [
       "<img src=\"data:image/png;base64,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\"/>"
      ]
     },
     "execution_count": 45,
     "metadata": {},
     "output_type": "execute_result"
    }
   ],
   "source": [
    "val bitmap = runBlocking { localCurrentDirVfs[\"korge.png\"].r() }\n",
    "\n",
    "Bitmap32(128, 128, Colors.TRANSPARENT_BLACK).context2d {\n",
    "    drawImage(bitmap, 0, 0, 128, 128)\n",
    "    fill(Colors.PURPLE.withAd(0.3)) {\n",
    "        translate(64, 64)\n",
    "        scale(1.1)\n",
    "        circle(0, 0, 48)\n",
    "        circle(0, 0, 32)\n",
    "    }\n",
    "}.toAwt()"
   ]
  }
 ],
 "metadata": {
  "kernelspec": {
   "display_name": "Kotlin",
   "language": "kotlin",
   "name": "kotlin"
  },
  "language_info": {
   "codemirror_mode": "text/x-kotlin",
   "file_extension": ".kt",
   "mimetype": "text/x-kotlin",
   "name": "kotlin",
   "nbconvert_exporter": "",
   "pygments_lexer": "kotlin",
   "version": "1.6.20-dev-3702"
  }
 },
 "nbformat": 4,
 "nbformat_minor": 5
}
