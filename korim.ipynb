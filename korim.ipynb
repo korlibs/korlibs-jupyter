{
 "cells": [
  {
   "cell_type": "code",
   "execution_count": 2,
   "id": "97c8b655",
   "metadata": {},
   "outputs": [],
   "source": [
    "@file:DependsOn(\"com.soywiz.korlibs.korim:korim-jvm:2.4.6\")"
   ]
  },
  {
   "cell_type": "code",
   "execution_count": 3,
   "id": "408afd89",
   "metadata": {},
   "outputs": [],
   "source": [
    "import com.soywiz.korma.*\n",
    "import com.soywiz.korma.geom.*\n",
    "import com.soywiz.korma.geom.vector.*\n",
    "import com.soywiz.korim.*\n",
    "import com.soywiz.korim.bitmap.*\n",
    "import com.soywiz.korim.color.*\n",
    "import com.soywiz.korim.awt.*"
   ]
  },
  {
   "cell_type": "code",
   "execution_count": 10,
   "id": "eb7b4095",
   "metadata": {},
   "outputs": [
    {
     "data": {
      "text/html": [
       "<img src=\"data:image/png;base64,iVBORw0KGgoAAAANSUhEUgAAAIAAAACACAYAAADDPmHLAAAFP0lEQVR4Xu3dQcQeRxzH8RFCyKGUUHooJZQeegolhxBy6qGUEHoooZQcQgihh1LKSw+hhJBDCOGlh57KSw7lpYQeQgihh4cSQg7hJZSy0/n/93nTp/+d9/XOzuzO7rvfDz/vmxxm55l9dnd2ZnZf5wAAAAAAAAAAAAAAAAAAAAAAAAAAAAAAAKrzJ51rLoR8G37fDj9/a+Ofhvjw+4uN/9sJ+S7kesg5WxJmw58NuRnyuN3JvbMX8kv4cnwdfn5gt4JJ8adCroad9SSyI0tFzhCf2y2jKn865FbIy8gOGyrP12eFE7Y2GJW/3F7DOztorIQvgr9ka4XB+fdDHkV2SK08CHnH1hKD0KP+dWQnVE7zV8intrYoyv/YbfhJ5e+Qb2ytkU06W/5hpMGnmjv2E6A33fnbkUaeeu7bT4Jks935+/nJfiIk8bcjjTq30Cfox1+JNOYcIx3D8/bT4VAy7q7j8LYxZxq5RfTv2k+JA/ndbiPOPtv2UyLKX4s03nEJE0mH82dCXkUarlR22nUBsj7Af7ze5nvrf3/m2oGm9TqBQSJzByf//5mxwW9FGi0zzcq1Z5UzdmsH0/UEWwMNOV+3W4OSTlLRjt8/rp0mzpiy1TrdjZSdEe0Qchbo8je6jdU3zcoVXdIl1+6iZ4MrdgsLJ0dps4o0VJ/86fS6Xpr0GfTotdvrEVl/iA3aCYs0VHIG2vn7tG9QqpN61pa+YDJm3mmg1LwJ+ciWXJ6/GNl2n9y0JS+YHrm2gVIzYu+6xBeWy8CanlYjDZQUub/O6O2n0oWouYtQ5S6FZWShEb6KNE5imi9tqcPTW8xIXZLCglKXfzqVsYMK99W6MFWOYluflNyypS5Q9ureB7bE8ejjZLY+KalY98nQ67dtmJRctSWOR583tPVJCB1BV2CEbT2pU4Ncwzv1SckzW+ICZV9HT9sSx5N7ByMji4tnGyU1NentYKROR86eLXGBOo2SmJr0ieRInY6cN7bEBeo0Smoq3ALu07WLtj4JkQdbFy97DUDFSZXsSazntsQFyp0HaL6wJY4ne/3iri1xgbIHUyo+hyevj+nUJyUPbYkLJM/QdRomIbpIY8SJoH16ByAPfUTqdOR8b0tdoOzTqOSiLXV4+ooYW4/E1Lx8TYb/pNswyXlkSx2WPrT6LFKP1CSsVD7WsufW/bhHk75HMFKHpPxhS12w3H6ARr5EIxxROvwry8/s9lPD9f8/cvR2GqhH9I7ilC29HFnBkz17uQ7vE9ogo3nFVtvK+oIBRgdl5ze/R7bXJwwAdRV9AdSuK/o4tp72Cx35mhEXsM6G/9DlTw1vRvoEBdbcyRs+soerN6LrHypOYU9akc6gjYzWnbdbOpze5sn7CJ9EysvNlt0a3tKzQO7o2gFpVk573vpgR6SPIDN72hm9tz5KI2XkRssd4U5l1vwP3YY7NrlmPy06dJFF5gzhJPPYVZmzmCW5ZhftENaODBxVXLcwS/qnW2xDzjUVl67Pmv810phzS8X1CrOnc+5PI406l+w4rvu5dAh2iPvxgaPDxgz4lDG7L4EMRbPzy9LLQe6DpGNE3ioWGWhCATpEK6N5ttGnEBnB5M3g45BxglJv7CoRvTyN8H4ibNBLwm1Xd8Boz7WPiNPTr0fn6n+O7JwhIyN7992gr6RDIjkFawes4Nx9J7LGQPogzOhNl1wa5KVR+pfCC0zral9DvliX7ZYwefoK2guu/UvisjBEZuQiO/ntzl65dmHpHdeuBGICBwAAAAAAAAAAAAAAAAAAAAAAAAAAAAAAVPcvoNVodE+uwMMAAAAASUVORK5CYII=\"/>"
      ]
     },
     "execution_count": 10,
     "metadata": {},
     "output_type": "execute_result"
    }
   ],
   "source": [
    "Bitmap32(128, 128, Colors.TRANSPARENT_BLACK).context2d {\n",
    "    fill(Colors.BLUE) {\n",
    "        circle(64, 64, 32)\n",
    "        circle(64, 64, 16)\n",
    "    }\n",
    "}.toAwt()"
   ]
  }
 ],
 "metadata": {
  "kernelspec": {
   "display_name": "Kotlin",
   "language": "kotlin",
   "name": "kotlin"
  },
  "language_info": {
   "codemirror_mode": "text/x-kotlin",
   "file_extension": ".kt",
   "mimetype": "text/x-kotlin",
   "name": "kotlin",
   "nbconvert_exporter": "",
   "pygments_lexer": "kotlin",
   "version": "1.6.20-dev-3702"
  }
 },
 "nbformat": 4,
 "nbformat_minor": 5
}
