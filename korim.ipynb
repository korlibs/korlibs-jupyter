{
 "cells": [
  {
   "cell_type": "code",
   "execution_count": 4,
   "id": "6737c485",
   "metadata": {},
   "outputs": [],
   "source": [
    "@file:DependsOn(\"com.soywiz.korlibs.korio:korio-jvm:2.4.6\")\n",
    "@file:DependsOn(\"com.soywiz.korlibs.korim:korim-jvm:2.4.6\")"
   ]
  },
  {
   "cell_type": "code",
   "execution_count": 5,
   "id": "f05550e6",
   "metadata": {},
   "outputs": [],
   "source": [
    "import com.soywiz.korma.*\n",
    "import com.soywiz.korma.geom.*\n",
    "import com.soywiz.korma.geom.vector.*\n",
    "import com.soywiz.korim.*\n",
    "import com.soywiz.korio.*\n",
    "import com.soywiz.korio.file.*\n",
    "import com.soywiz.korio.file.std.*\n",
    "import com.soywiz.korim.*\n",
    "import com.soywiz.korim.format.*\n",
    "import com.soywiz.korim.bitmap.*\n",
    "import com.soywiz.korim.color.*\n",
    "import com.soywiz.korim.awt.*\n",
    "import kotlinx.coroutines.*"
   ]
  },
  {
   "cell_type": "code",
   "execution_count": 6,
   "id": "802c57fb",
   "metadata": {},
   "outputs": [
    {
     "data": {
      "text/html": [
       "<img src=\"data:image/png;base64,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\"/>"
      ]
     },
     "execution_count": 6,
     "metadata": {},
     "output_type": "execute_result"
    }
   ],
   "source": [
    "val bitmap = runBlocking { localCurrentDirVfs[\"korge.png\"].readBitmapNoNative(PNG) }\n",
    "\n",
    "Bitmap32(128, 128, Colors.TRANSPARENT_BLACK).context2d {\n",
    "    drawImage(bitmap, 0, 0, 128, 128)\n",
    "    fill(Colors.PURPLE.withAd(0.3)) {\n",
    "        translate(64, 64)\n",
    "        scale(1.1)\n",
    "        circle(0, 0, 48)\n",
    "        circle(0, 0, 32)\n",
    "    }\n",
    "}.toAwt()"
   ]
  }
 ],
 "metadata": {
  "kernelspec": {
   "display_name": "Kotlin",
   "language": "kotlin",
   "name": "kotlin"
  },
  "language_info": {
   "codemirror_mode": "text/x-kotlin",
   "file_extension": ".kt",
   "mimetype": "text/x-kotlin",
   "name": "kotlin",
   "nbconvert_exporter": "",
   "pygments_lexer": "kotlin",
   "version": "1.6.20-dev-3702"
  }
 },
 "nbformat": 4,
 "nbformat_minor": 5
}
