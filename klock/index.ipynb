{
 "cells": [
  {
   "cell_type": "code",
   "execution_count": 1,
   "id": "1fa09790",
   "metadata": {},
   "outputs": [],
   "source": [
    "@file:DependsOn(\"com.soywiz.korlibs.klock:klock-jvm:2.4.6\")"
   ]
  },
  {
   "cell_type": "code",
   "execution_count": 2,
   "id": "3eb2b3f5",
   "metadata": {},
   "outputs": [],
   "source": [
    "import com.soywiz.klock.*"
   ]
  },
  {
   "cell_type": "code",
   "execution_count": 3,
   "id": "8cb30cde",
   "metadata": {},
   "outputs": [
    {
     "data": {
      "text/plain": [
       "Mon, 18 Oct 2021 18:59:39 UTC"
      ]
     },
     "execution_count": 3,
     "metadata": {},
     "output_type": "execute_result"
    }
   ],
   "source": [
    "DateTime.now().toStringDefault()"
   ]
  }
 ],
 "metadata": {
  "kernelspec": {
   "display_name": "Kotlin",
   "language": "kotlin",
   "name": "kotlin"
  },
  "language_info": {
   "codemirror_mode": "text/x-kotlin",
   "file_extension": ".kt",
   "mimetype": "text/x-kotlin",
   "name": "kotlin",
   "nbconvert_exporter": "",
   "pygments_lexer": "kotlin",
   "version": "1.6.20-dev-3702"
  }
 },
 "nbformat": 4,
 "nbformat_minor": 5
}
