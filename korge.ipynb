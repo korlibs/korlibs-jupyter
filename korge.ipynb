{
 "cells": [
  {
   "cell_type": "code",
   "execution_count": 1,
   "id": "edc9b64b",
   "metadata": {},
   "outputs": [],
   "source": [
    "@file:DependsOn(\"com.soywiz.korlibs.korge2:korge-jvm:2.4.6\")"
   ]
  },
  {
   "cell_type": "code",
   "execution_count": 2,
   "id": "68b65732",
   "metadata": {},
   "outputs": [],
   "source": [
    "import com.soywiz.korma.*\n",
    "import com.soywiz.korma.interpolation.*\n",
    "import com.soywiz.korma.geom.*\n",
    "import com.soywiz.korma.geom.vector.*\n",
    "import com.soywiz.korim.*\n",
    "import com.soywiz.korio.*\n",
    "import com.soywiz.korio.file.*\n",
    "import com.soywiz.korio.file.std.*\n",
    "import com.soywiz.korim.*\n",
    "import com.soywiz.klock.*\n",
    "import com.soywiz.korim.format.*\n",
    "import com.soywiz.korim.bitmap.*\n",
    "import com.soywiz.korim.color.*\n",
    "import com.soywiz.korim.awt.*\n",
    "import com.soywiz.korge.*\n",
    "import com.soywiz.korgw.awt.*\n",
    "import com.soywiz.korge.tween.*\n",
    "import com.soywiz.korge.view.*\n",
    "import kotlinx.coroutines.*"
   ]
  },
  {
   "cell_type": "code",
   "execution_count": 3,
   "id": "5e7ce2db",
   "metadata": {},
   "outputs": [
    {
     "name": "stderr",
     "output_type": "stream",
     "text": [
      "Line_2.jupyter-kts (4:5 - 18) None of the following functions can be called with the arguments supplied: \n",
      "public final suspend operator fun invoke(config: Korge.Config): Unit defined in com.soywiz.korge.KorgeHeadless\n",
      "public final suspend operator fun invoke(title: String = ..., width: Int = ..., height: Int = ..., virtualWidth: Int = ..., virtualHeight: Int = ..., icon: Bitmap? = ..., iconPath: String? = ..., imageFormats: ImageFormat = ..., quality: GameWindow.Quality = ..., targetFps: Double = ..., scaleAnchor: Anchor = ..., scaleMode: ScaleMode = ..., clipBorders: Boolean = ..., bgcolor: RGBA? = ..., debug: Boolean = ..., fullscreen: Boolean? = ..., args: Array<String> = ..., timeProvider: TimeProvider = ..., injector: AsyncInjector = ..., blocking: Boolean = ..., debugAg: Boolean = ..., entry: suspend Stage.() -> Unit): Unit defined in com.soywiz.korge.KorgeHeadless\n",
      "Line_2.jupyter-kts (8:21 - 30) Unresolved reference. None of the following candidates is applicable because of receiver type mismatch: \n",
      "public inline fun Container.solidRect(width: Double, height: Double, color: RGBA = ..., callback: SolidRect.() -> Unit = ...): SolidRect defined in com.soywiz.korge.view\n",
      "public inline fun Container.solidRect(width: Int, height: Int, color: RGBA = ..., callback: SolidRect.() -> Unit = ...): SolidRect defined in com.soywiz.korge.view\n",
      "Line_2.jupyter-kts (9:13 - 21) Function invocation 'rotation(...)' expected\n",
      "Line_2.jupyter-kts (9:13 - 21) Unresolved reference. None of the following candidates is applicable because of receiver type mismatch: \n",
      "public fun <T : View> TypeVariable(T).rotation(rot: Angle): TypeVariable(T) defined in com.soywiz.korge.view\n",
      "Line_2.jupyter-kts (10:13 - 19) Unresolved reference. None of the following candidates is applicable because of receiver type mismatch: \n",
      "public fun IRectangleInt.anchor(ax: Double, ay: Double): PointInt defined in com.soywiz.korma.geom\n",
      "Line_2.jupyter-kts (11:19 - 21) The floating-point literal does not conform to the expected type RgbaPremultipliedArray\n",
      "Line_2.jupyter-kts (11:21 - 22) No value passed for parameter 'colorOffset'\n",
      "Line_2.jupyter-kts (11:21 - 22) No value passed for parameter 'alpha'\n",
      "Line_2.jupyter-kts (11:21 - 22) No value passed for parameter 'alphaOffset'\n",
      "Line_2.jupyter-kts (11:21 - 22) No value passed for parameter 'count'\n",
      "Line_2.jupyter-kts (12:13 - 21) Unresolved reference. None of the following candidates is applicable because of receiver type mismatch: \n",
      "public inline fun <T : View> TypeVariable(T).position(point: IPoint): TypeVariable(T) defined in com.soywiz.korge.view\n",
      "public fun <T : View> TypeVariable(T).position(x: Double, y: Double): TypeVariable(T) defined in com.soywiz.korge.view\n",
      "public fun <T : View> TypeVariable(T).position(x: Float, y: Float): TypeVariable(T) defined in com.soywiz.korge.view\n",
      "public fun <T : View> TypeVariable(T).position(x: Int, y: Int): TypeVariable(T) defined in com.soywiz.korge.view\n",
      "Line_2.jupyter-kts (17:32 - 40) Overload resolution ambiguity: \n",
      "public open var <ERROR PROPERTY>: [ERROR : <ERROR PROPERTY TYPE>] defined in root package\n",
      "public open fun <ERROR FUNCTION>(): [ERROR : <ERROR FUNCTION RETURN TYPE>] defined in root package\n",
      "Line_2.jupyter-kts (18:32 - 40) Overload resolution ambiguity: \n",
      "public open var <ERROR PROPERTY>: [ERROR : <ERROR PROPERTY TYPE>] defined in root package\n",
      "public open fun <ERROR FUNCTION>(): [ERROR : <ERROR FUNCTION RETURN TYPE>] defined in root package\n",
      "Line_2.jupyter-kts (19:22 - 27) Unresolved reference: stage\n",
      "Line_2.jupyter-kts (19:43 - 48) Unresolved reference. None of the following candidates is applicable because of receiver type mismatch: \n",
      "public var UiApplication.views: Views? defined in com.soywiz.korge.view\n",
      "Line_2.jupyter-kts (20:13 - 18) Unresolved reference. None of the following candidates is applicable because of receiver type mismatch: \n",
      "public var UiApplication.views: Views? defined in com.soywiz.korge.view"
     ]
    }
   ],
   "source": [
    "lateinit var bitmap: Bitmap\n",
    "\n",
    "runBlocking {\n",
    "    KorgeHeadless(width = 512, height = 512, bgcolor = Colors[\"#2b2b2b\"], gameWindow = AwtGameWindow(false, false)) {\n",
    "        val minDegrees = (-16).degrees\n",
    "        val maxDegrees = (+16).degrees\n",
    "\n",
    "        val image = solidRect(100, 100, Colors.RED) {\n",
    "            rotation = maxDegrees\n",
    "            anchor(.5, .5)\n",
    "            scale(.8)\n",
    "            position(256, 256)\n",
    "        }\n",
    "\n",
    "        while (true) {\n",
    "            println(\"STEP\")\n",
    "            image.tween(image::rotation[minDegrees], time = 0.5.seconds, easing = Easing.EASE_IN_OUT)\n",
    "            image.tween(image::rotation[maxDegrees], time = 0.5.seconds, easing = Easing.EASE_IN_OUT)\n",
    "            bitmap = stage.renderToBitmap(views)\n",
    "            views.gameWindow.close() // We close the window, finalizing the test here\n",
    "            break\n",
    "        }\n",
    "    }\n",
    "}\n",
    "\n",
    "bitmap.toAwt()"
   ]
  }
 ],
 "metadata": {
  "kernelspec": {
   "display_name": "Kotlin",
   "language": "kotlin",
   "name": "kotlin"
  },
  "language_info": {
   "codemirror_mode": "text/x-kotlin",
   "file_extension": ".kt",
   "mimetype": "text/x-kotlin",
   "name": "kotlin",
   "nbconvert_exporter": "",
   "pygments_lexer": "kotlin",
   "version": "1.6.20-dev-3702"
  }
 },
 "nbformat": 4,
 "nbformat_minor": 5
}
