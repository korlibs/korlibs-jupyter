{
 "cells": [
  {
   "cell_type": "code",
   "execution_count": 1,
   "id": "edc9b64b",
   "metadata": {},
   "outputs": [],
   "source": [
    "@file:DependsOn(\"com.soywiz.korlibs.korge2:korge-jvm:2.4.6\")"
   ]
  },
  {
   "cell_type": "code",
   "execution_count": 2,
   "id": "68b65732",
   "metadata": {},
   "outputs": [],
   "source": [
    "import com.soywiz.korma.*\n",
    "import com.soywiz.korma.interpolation.*\n",
    "import com.soywiz.korma.geom.*\n",
    "import com.soywiz.korma.geom.vector.*\n",
    "import com.soywiz.korim.*\n",
    "import com.soywiz.korio.*\n",
    "import com.soywiz.korio.file.*\n",
    "import com.soywiz.korio.file.std.*\n",
    "import com.soywiz.korim.*\n",
    "import com.soywiz.klock.*\n",
    "import com.soywiz.korim.format.*\n",
    "import com.soywiz.korim.bitmap.*\n",
    "import com.soywiz.korim.color.*\n",
    "import com.soywiz.korim.awt.*\n",
    "import com.soywiz.korge.*\n",
    "import com.soywiz.korgw.awt.*\n",
    "import com.soywiz.korge.tween.*\n",
    "import com.soywiz.korge.view.*\n",
    "import kotlinx.coroutines.*"
   ]
  },
  {
   "cell_type": "code",
   "execution_count": null,
   "id": "5e7ce2db",
   "metadata": {},
   "outputs": [
    {
     "name": "stdout",
     "output_type": "stream",
     "text": [
      "WARNING: DummyOpenglContext.makeCurrent (using a Dummy implementation)\n"
     ]
    }
   ],
   "source": [
    "lateinit var bitmap: Bitmap\n",
    "\n",
    "runBlocking {\n",
    "    Korge(width = 512, height = 512, bgcolor = Colors[\"#2b2b2b\"], gameWindow = AwtGameWindow(false, false)) {\n",
    "        val minDegrees = (-16).degrees\n",
    "        val maxDegrees = (+16).degrees\n",
    "\n",
    "        val image = solidRect(100, 100, Colors.RED) {\n",
    "            rotation = maxDegrees\n",
    "            anchor(.5, .5)\n",
    "            scale(.8)\n",
    "            position(256, 256)\n",
    "        }\n",
    "\n",
    "        while (true) {\n",
    "            println(\"STEP\")\n",
    "            image.tween(image::rotation[minDegrees], time = 0.5.seconds, easing = Easing.EASE_IN_OUT)\n",
    "            image.tween(image::rotation[maxDegrees], time = 0.5.seconds, easing = Easing.EASE_IN_OUT)\n",
    "            bitmap = stage.renderToBitmap(views)\n",
    "            views.gameWindow.close() // We close the window, finalizing the test here\n",
    "            break\n",
    "        }\n",
    "    }\n",
    "}\n",
    "\n",
    "bitmap.toAwt()"
   ]
  }
 ],
 "metadata": {
  "kernelspec": {
   "display_name": "Kotlin",
   "language": "kotlin",
   "name": "kotlin"
  },
  "language_info": {
   "codemirror_mode": "text/x-kotlin",
   "file_extension": ".kt",
   "mimetype": "text/x-kotlin",
   "name": "kotlin",
   "nbconvert_exporter": "",
   "pygments_lexer": "kotlin",
   "version": "1.6.20-dev-3702"
  }
 },
 "nbformat": 4,
 "nbformat_minor": 5
}
